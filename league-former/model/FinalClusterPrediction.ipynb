{
  "nbformat": 4,
  "nbformat_minor": 0,
  "metadata": {
    "colab": {
      "provenance": []
    },
    "kernelspec": {
      "name": "python3",
      "display_name": "Python 3"
    },
    "language_info": {
      "name": "python"
    }
  },
  "cells": [
    {
      "cell_type": "code",
      "source": [
        "import joblib\n",
        "import numpy as np\n",
        "from sklearn.preprocessing import StandardScaler\n",
        "\n",
        "def load_model_and_scaler(model_path, scaler_path):\n",
        "    \"\"\"Load the trained K-Means model and StandardScaler.\"\"\"\n",
        "    kmeans = joblib.load(model_path)\n",
        "    scaler = joblib.load(scaler_path)\n",
        "    return kmeans, scaler\n",
        "\n",
        "def calculate_user_points(monthly_spending, monthly_savings, last_month_savings):\n",
        "    \"\"\"Compute the derived features, normalize, and calculate user points.\"\"\"\n",
        "    if monthly_savings == 0:\n",
        "        monthly_savings = 0.01\n",
        "\n",
        "    if last_month_savings == 0:\n",
        "        last_month_savings = 0.01\n",
        "\n",
        "    # Derived features\n",
        "    withdrawal_ratio = monthly_spending / monthly_savings\n",
        "    savings_growth_rate = (monthly_savings - last_month_savings) / last_month_savings\n",
        "\n",
        "    # Feature weights\n",
        "    weights = {\n",
        "        \"Monthly_Savings\": 0.5,\n",
        "        \"Monthly_Spending\": 0.2,\n",
        "        \"Withdrawal_Ratio\": -0.2,\n",
        "        \"Savings_Growth_Rate\": 0.2,\n",
        "    }\n",
        "\n",
        "    # Normalize features (assuming max and min values from training data)\n",
        "    max_savings, max_spending = 9904865, 72944  # Adjust based on dataset\n",
        "    max_withdrawal_ratio, min_savings_growth_rate, max_savings_growth_rate = 5, -1, 2\n",
        "\n",
        "    norm_savings = monthly_savings / max_savings\n",
        "    norm_spending = monthly_spending / max_spending\n",
        "    norm_withdrawal_ratio = 1 - (withdrawal_ratio / max_withdrawal_ratio)\n",
        "    norm_savings_growth = (savings_growth_rate - min_savings_growth_rate) / (max_savings_growth_rate - min_savings_growth_rate)\n",
        "\n",
        "    # Compute the final score\n",
        "    points = (\n",
        "        norm_savings * weights[\"Monthly_Savings\"] +\n",
        "        norm_spending * weights[\"Monthly_Spending\"] +\n",
        "        norm_withdrawal_ratio * weights[\"Withdrawal_Ratio\"] +\n",
        "        norm_savings_growth * weights[\"Savings_Growth_Rate\"]\n",
        "    )\n",
        "\n",
        "    # Scale points to a range (0 to 1000)\n",
        "    points = max(0, min(1000, points * 1000))  # Ensure points stay in range\n",
        "    return round(points, 2)\n",
        "\n",
        "def predict_cluster(monthly_spending, monthly_savings, last_month_savings, model_path, scaler_path):\n",
        "    \"\"\"Calculate points and predict cluster.\"\"\"\n",
        "    kmeans, scaler = load_model_and_scaler(model_path, scaler_path)\n",
        "    points = calculate_user_points(monthly_spending, monthly_savings, last_month_savings)\n",
        "    points_scaled = scaler.transform(np.array([[points]]))  # Reshape for model\n",
        "    cluster = kmeans.predict(points_scaled)[0]\n",
        "    return cluster, points\n",
        "\n",
        "def cluster_Mapping(cluster):\n",
        "    if cluster == 0:\n",
        "        return 0\n",
        "    elif cluster == 1:\n",
        "        return 2\n",
        "    elif cluster == 2:\n",
        "        return 1\n",
        "    elif cluster == 3:\n",
        "        return 4\n",
        "    elif cluster == 4:\n",
        "        return 3\n",
        "\n",
        "# Example usage:\n",
        "if __name__ == \"__main__\":\n",
        "    model_path = \"/content/kmeans_model.pkl\"\n",
        "    scaler_path = \"/content/scaler.pkl\"\n",
        "\n",
        "    user_cluster, user_points = predict_cluster(700, 100, 7200, model_path, scaler_path)\n",
        "    user_cluster = cluster_Mapping(user_cluster)\n",
        "    print(f\"User belongs to cluster {user_cluster} with {user_points} points.\")\n"
      ],
      "metadata": {
        "colab": {
          "base_uri": "https://localhost:8080/"
        },
        "id": "xh-tvIwD8SMq",
        "outputId": "eb496616-2299-4fcd-a4d9-0ef668aeeeb5"
      },
      "execution_count": 30,
      "outputs": [
        {
          "output_type": "stream",
          "name": "stdout",
          "text": [
            "User belongs to cluster 0 with 82.85 points.\n"
          ]
        },
        {
          "output_type": "stream",
          "name": "stderr",
          "text": [
            "/usr/local/lib/python3.11/dist-packages/sklearn/utils/validation.py:2739: UserWarning: X does not have valid feature names, but StandardScaler was fitted with feature names\n",
            "  warnings.warn(\n"
          ]
        }
      ]
    }
  ]
}